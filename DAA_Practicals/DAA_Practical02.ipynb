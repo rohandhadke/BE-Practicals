{
 "cells": [
  {
   "cell_type": "code",
   "execution_count": 1,
   "id": "7621f795-016a-4c4b-8b7c-8d7720821446",
   "metadata": {},
   "outputs": [
    {
     "name": "stdout",
     "output_type": "stream",
     "text": [
      "Scheduled jobs: ['A', 'C', 'E']\n",
      "Total Profit: 142\n"
     ]
    }
   ],
   "source": [
    "# A class to represent a job\n",
    "class Job:\n",
    "    def __init__(self, job_id, deadline, profit):\n",
    "        self.job_id = job_id  # Job ID\n",
    "        self.deadline = deadline  # Deadline by which the job should be completed\n",
    "        self.profit = profit  # Profit if the job is completed\n",
    "\n",
    "# Function to schedule the jobs to maximize profit\n",
    "def job_sequencing(jobs, max_deadline):\n",
    "    # Sort the jobs based on profit in descending order\n",
    "    jobs.sort(key=lambda job: job.profit, reverse=True)\n",
    "    \n",
    "    # Initialize an array to keep track of free time slots\n",
    "    time_slots = [-1] * max_deadline  # -1 indicates free slot\n",
    "    \n",
    "    # Array to store the result (scheduled jobs)\n",
    "    scheduled_jobs = []\n",
    "    total_profit = 0\n",
    "\n",
    "    # Iterate through all given jobs\n",
    "    for job in jobs:\n",
    "        # Find a free slot for this job (we start from the last possible slot)\n",
    "        for slot in range(min(max_deadline, job.deadline) - 1, -1, -1):\n",
    "            if time_slots[slot] == -1:\n",
    "                # Slot is free, so schedule the job\n",
    "                time_slots[slot] = job.job_id\n",
    "                scheduled_jobs.append(job.job_id)\n",
    "                total_profit += job.profit\n",
    "                break\n",
    "\n",
    "    # Return the list of scheduled jobs and the total profit\n",
    "    return scheduled_jobs, total_profit\n",
    "\n",
    "# Example usage\n",
    "if __name__ == \"__main__\":\n",
    "    # List of jobs (job_id, deadline, profit)\n",
    "    jobs = [\n",
    "        Job('A', 2, 100),\n",
    "        Job('B', 1, 19),\n",
    "        Job('C', 2, 27),\n",
    "        Job('D', 1, 25),\n",
    "        Job('E', 3, 15)\n",
    "    ]\n",
    "\n",
    "    # Assume maximum deadline as 3\n",
    "    max_deadline = 3\n",
    "\n",
    "    # Call the function\n",
    "    scheduled_jobs, total_profit = job_sequencing(jobs, max_deadline)\n",
    "\n",
    "    # Display the result\n",
    "    print(\"Scheduled jobs:\", scheduled_jobs)\n",
    "    print(\"Total Profit:\", total_profit)\n"
   ]
  },
  {
   "cell_type": "code",
   "execution_count": null,
   "id": "3f7f91e2-72cc-4fa0-934b-4600141e8a9b",
   "metadata": {},
   "outputs": [],
   "source": []
  }
 ],
 "metadata": {
  "kernelspec": {
   "display_name": "Python 3 (ipykernel)",
   "language": "python",
   "name": "python3"
  },
  "language_info": {
   "codemirror_mode": {
    "name": "ipython",
    "version": 3
   },
   "file_extension": ".py",
   "mimetype": "text/x-python",
   "name": "python",
   "nbconvert_exporter": "python",
   "pygments_lexer": "ipython3",
   "version": "3.12.6"
  }
 },
 "nbformat": 4,
 "nbformat_minor": 5
}
