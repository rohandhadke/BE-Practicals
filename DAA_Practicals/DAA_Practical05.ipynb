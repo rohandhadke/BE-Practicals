{
 "cells": [
  {
   "cell_type": "code",
   "execution_count": 1,
   "id": "1e22a875-47f5-45e1-adb1-17bbcd9459b8",
   "metadata": {},
   "outputs": [
    {
     "name": "stdout",
     "output_type": "stream",
     "text": [
      "The binomial coefficient C(5, 2) is 10\n"
     ]
    }
   ],
   "source": [
    "# Function to calculate binomial coefficient C(n, k) using dynamic programming\n",
    "def binomial_coefficient(n, k):\n",
    "    # Create a 2D array to store binomial coefficients\n",
    "    dp = [[0 for _ in range(k + 1)] for _ in range(n + 1)]\n",
    "    \n",
    "    # Calculate the binomial coefficients\n",
    "    for i in range(n + 1):\n",
    "        for j in range(min(i, k) + 1):\n",
    "            # Base cases\n",
    "            if j == 0 or j == i:\n",
    "                dp[i][j] = 1\n",
    "            else:\n",
    "                # Recursive relation\n",
    "                dp[i][j] = dp[i - 1][j - 1] + dp[i - 1][j]\n",
    "    \n",
    "    return dp[n][k]\n",
    "\n",
    "# Example usage\n",
    "if __name__ == \"__main__\":\n",
    "    n = 5\n",
    "    k = 2\n",
    "    \n",
    "    # Call the function to compute C(n, k)\n",
    "    result = binomial_coefficient(n, k)\n",
    "    \n",
    "    # Display the result\n",
    "    print(f\"The binomial coefficient C({n}, {k}) is {result}\")\n"
   ]
  },
  {
   "cell_type": "code",
   "execution_count": null,
   "id": "37ab003f-3775-4828-8cdb-76d854eceeb5",
   "metadata": {},
   "outputs": [],
   "source": []
  }
 ],
 "metadata": {
  "kernelspec": {
   "display_name": "Python 3 (ipykernel)",
   "language": "python",
   "name": "python3"
  },
  "language_info": {
   "codemirror_mode": {
    "name": "ipython",
    "version": 3
   },
   "file_extension": ".py",
   "mimetype": "text/x-python",
   "name": "python",
   "nbconvert_exporter": "python",
   "pygments_lexer": "ipython3",
   "version": "3.12.6"
  }
 },
 "nbformat": 4,
 "nbformat_minor": 5
}
