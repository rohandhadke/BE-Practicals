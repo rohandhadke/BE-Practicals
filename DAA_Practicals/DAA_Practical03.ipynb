{
 "cells": [
  {
   "cell_type": "code",
   "execution_count": 1,
   "id": "b83dc250-c565-4342-8dfc-29ce60f11831",
   "metadata": {},
   "outputs": [
    {
     "name": "stdout",
     "output_type": "stream",
     "text": [
      "Maximum value that can be obtained: 240.0\n"
     ]
    }
   ],
   "source": [
    "# A class to represent an item\n",
    "class Item:\n",
    "    def __init__(self, value, weight):\n",
    "        self.value = value\n",
    "        self.weight = weight\n",
    "        # Value-to-weight ratio\n",
    "        self.ratio = value / weight\n",
    "\n",
    "# Function to solve the fractional knapsack problem\n",
    "def fractional_knapsack(capacity, items):\n",
    "    # Sort items by value-to-weight ratio in decreasing order\n",
    "    items.sort(key=lambda x: x.ratio, reverse=True)\n",
    "    \n",
    "    total_value = 0.0  # Total value of items included in the knapsack\n",
    "    for item in items:\n",
    "        if capacity == 0:\n",
    "            break\n",
    "        if item.weight <= capacity:\n",
    "            # If the item can be fully taken\n",
    "            total_value += item.value\n",
    "            capacity -= item.weight\n",
    "        else:\n",
    "            # Take the fraction of the item\n",
    "            total_value += item.value * (capacity / item.weight)\n",
    "            capacity = 0  # Knapsack is full\n",
    "\n",
    "    return total_value\n",
    "\n",
    "# Example usage\n",
    "if __name__ == \"__main__\":\n",
    "    # List of items (value, weight)\n",
    "    items = [\n",
    "        Item(60, 10),\n",
    "        Item(100, 20),\n",
    "        Item(120, 30)\n",
    "    ]\n",
    "    \n",
    "    # Knapsack capacity\n",
    "    capacity = 50\n",
    "\n",
    "    # Call the function to solve the problem\n",
    "    max_value = fractional_knapsack(capacity, items)\n",
    "\n",
    "    # Display the result\n",
    "    print(\"Maximum value that can be obtained:\", max_value)\n"
   ]
  },
  {
   "cell_type": "code",
   "execution_count": null,
   "id": "e3f26b69-1e70-4002-b8e3-c6d6f213be25",
   "metadata": {},
   "outputs": [],
   "source": []
  }
 ],
 "metadata": {
  "kernelspec": {
   "display_name": "Python 3 (ipykernel)",
   "language": "python",
   "name": "python3"
  },
  "language_info": {
   "codemirror_mode": {
    "name": "ipython",
    "version": 3
   },
   "file_extension": ".py",
   "mimetype": "text/x-python",
   "name": "python",
   "nbconvert_exporter": "python",
   "pygments_lexer": "ipython3",
   "version": "3.12.6"
  }
 },
 "nbformat": 4,
 "nbformat_minor": 5
}
