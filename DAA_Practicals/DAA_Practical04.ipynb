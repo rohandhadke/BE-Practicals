{
 "cells": [
  {
   "cell_type": "code",
   "execution_count": 1,
   "id": "1a5399c7-0925-4a39-896e-ee9c0592dd71",
   "metadata": {},
   "outputs": [
    {
     "name": "stdout",
     "output_type": "stream",
     "text": [
      "Maximum value that can be obtained: 7\n"
     ]
    }
   ],
   "source": [
    "# Function to solve the 0/1 Knapsack problem using Dynamic Programming\n",
    "def knapsack_01(weights, values, capacity):\n",
    "    n = len(weights)\n",
    "    \n",
    "    # Create a 2D DP table with dimensions (n+1) x (capacity+1)\n",
    "    dp = [[0 for _ in range(capacity + 1)] for _ in range(n + 1)]\n",
    "    \n",
    "    # Fill the DP table\n",
    "    for i in range(1, n + 1):\n",
    "        for w in range(capacity + 1):\n",
    "            if weights[i-1] <= w:\n",
    "                dp[i][w] = max(dp[i-1][w], dp[i-1][w - weights[i-1]] + values[i-1])\n",
    "            else:\n",
    "                dp[i][w] = dp[i-1][w]\n",
    "\n",
    "    # The maximum value is stored in dp[n][capacity]\n",
    "    return dp[n][capacity]\n",
    "\n",
    "# Example usage\n",
    "if __name__ == \"__main__\":\n",
    "    # List of item weights and values\n",
    "    weights = [2, 3, 4, 5]\n",
    "    values = [3, 4, 5, 6]\n",
    "    \n",
    "    # Knapsack capacity\n",
    "    capacity = 5\n",
    "\n",
    "    # Call the knapsack function\n",
    "    max_value = knapsack_01(weights, values, capacity)\n",
    "    \n",
    "    # Display the result\n",
    "    print(\"Maximum value that can be obtained:\", max_value)"
   ]
  },
  {
   "cell_type": "code",
   "execution_count": null,
   "id": "1a3d6e99-92e1-4f9b-8cc6-045999c3f3cf",
   "metadata": {},
   "outputs": [],
   "source": []
  }
 ],
 "metadata": {
  "kernelspec": {
   "display_name": "Python 3 (ipykernel)",
   "language": "python",
   "name": "python3"
  },
  "language_info": {
   "codemirror_mode": {
    "name": "ipython",
    "version": 3
   },
   "file_extension": ".py",
   "mimetype": "text/x-python",
   "name": "python",
   "nbconvert_exporter": "python",
   "pygments_lexer": "ipython3",
   "version": "3.12.6"
  }
 },
 "nbformat": 4,
 "nbformat_minor": 5
}
