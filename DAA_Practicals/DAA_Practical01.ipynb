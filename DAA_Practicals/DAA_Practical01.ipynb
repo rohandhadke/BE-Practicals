{
 "cells": [
  {
   "cell_type": "code",
   "execution_count": 1,
   "id": "833188b7-574d-4fdd-b130-00555fb1b5c8",
   "metadata": {},
   "outputs": [
    {
     "name": "stdin",
     "output_type": "stream",
     "text": [
      "Howmanyterms? 5\n"
     ]
    },
    {
     "name": "stdout",
     "output_type": "stream",
     "text": [
      "Fibonaccisequence:\n",
      "0\n",
      "1\n",
      "1\n",
      "2\n",
      "3\n"
     ]
    }
   ],
   "source": [
    "nterms=int(input(\"Howmanyterms?\")) \n",
    " \n",
    "#firsttwoterms \n",
    "n1,n2=0,1 \n",
    "count=0 \n",
    " \n",
    "#checkifthenumberoftermsisvalid \n",
    "if nterms<=0:\n",
    "    print(\"Pleaseenterapositiveinteger\") \n",
    "#ifthereisonlyoneterm,returnn1 \n",
    "elif nterms==1:\n",
    "    print(\"Fibonacci sequence upto\",nterms,\":\") \n",
    "    print(n1) \n",
    "#generatefibonaccisequence \n",
    "else:\n",
    "    print(\"Fibonaccisequence:\") \n",
    "    while count < nterms:\n",
    "        print(n1) \n",
    "        nth=n1+n2\n",
    "        # update values \n",
    "        n1 = n2 \n",
    "        n2=nth \n",
    "        count+=1"
   ]
  },
  {
   "cell_type": "code",
   "execution_count": 4,
   "id": "474192bd-068b-4fae-9363-dc110a3a3798",
   "metadata": {},
   "outputs": [
    {
     "name": "stdin",
     "output_type": "stream",
     "text": [
      "Howmanyterms? 5\n"
     ]
    },
    {
     "name": "stdout",
     "output_type": "stream",
     "text": [
      "Fibonaccisequence:\n",
      "0\n",
      "1\n",
      "1\n",
      "2\n",
      "3\n"
     ]
    }
   ],
   "source": [
    "def fibonacci(n): \n",
    "    if n<=0: \n",
    "        return[] \n",
    "    elif n==1: \n",
    "        return[0] \n",
    "    elif n==2: \n",
    "        return[0,1] \n",
    "    else: \n",
    "        seq=fibonacci(n-1) \n",
    "        seq.append(seq[-1]+seq[-2]) \n",
    "        return seq \n",
    " \n",
    "nterms=int(input(\"Howmanyterms?\")) \n",
    " \n",
    "#checkifthenumberoftermsisvalid \n",
    "if nterms<=0:\n",
    "    print(\"Pleaseenterapositiveinteger\") \n",
    "else: \n",
    "    print(\"Fibonaccisequence:\") \n",
    "    fib_sequence=fibonacci(nterms) \n",
    "    for num in fib_sequence: \n",
    "        print(num)"
   ]
  },
  {
   "cell_type": "code",
   "execution_count": null,
   "id": "a7a9a213-d722-48b4-afe2-e39319952414",
   "metadata": {},
   "outputs": [],
   "source": []
  }
 ],
 "metadata": {
  "kernelspec": {
   "display_name": "Python 3 (ipykernel)",
   "language": "python",
   "name": "python3"
  },
  "language_info": {
   "codemirror_mode": {
    "name": "ipython",
    "version": 3
   },
   "file_extension": ".py",
   "mimetype": "text/x-python",
   "name": "python",
   "nbconvert_exporter": "python",
   "pygments_lexer": "ipython3",
   "version": "3.12.6"
  }
 },
 "nbformat": 4,
 "nbformat_minor": 5
}
